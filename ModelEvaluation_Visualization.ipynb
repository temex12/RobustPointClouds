{
 "cells": [
  {
   "cell_type": "code",
   "execution_count": 4,
   "id": "c6ec7998",
   "metadata": {},
   "outputs": [],
   "source": [
    "from mmengine.config import Config\n",
    "from mmdet3d.apis import init_model, LidarDet3DInferencer"
   ]
  },
  {
   "cell_type": "code",
   "execution_count": 7,
   "id": "5af6c034",
   "metadata": {},
   "outputs": [
    {
     "name": "stdout",
     "output_type": "stream",
     "text": [
      "Loads checkpoint by local backend from path: C:/Users/temex/Desktop/mmdet3dProj/trainingOutput/epoch_40.pth\n"
     ]
    }
   ],
   "source": [
    "from mmdet3d.apis import init_model\n",
    "\n",
    "# Initialize model with the correct paths\n",
    "config_file = 'C:/Users/temex/Desktop/mmdet3dProj/mmdetection3d/configs/second/second_hv_secfpn_8xb6-80e_kitti-3d-car.py'\n",
    "checkpoint_file = 'C:/Users/temex/Desktop/mmdet3dProj/trainingOutput/epoch_40.pth'\n",
    "device = 'cuda:0'\n",
    "\n",
    "# Load the model\n",
    "model = init_model(config_file, checkpoint_file, device=device)\n"
   ]
  },
  {
   "cell_type": "code",
   "execution_count": 11,
   "id": "b9e422ad",
   "metadata": {},
   "outputs": [
    {
     "ename": "ValueError",
     "evalue": "dictionary update sequence element #0 has length 1; 2 is required",
     "output_type": "error",
     "traceback": [
      "\u001b[1;31m---------------------------------------------------------------------------\u001b[0m",
      "\u001b[1;31mValueError\u001b[0m                                Traceback (most recent call last)",
      "Cell \u001b[1;32mIn[11], line 3\u001b[0m\n\u001b[0;32m      1\u001b[0m \u001b[38;5;66;03m# Prepare the point cloud data\u001b[39;00m\n\u001b[0;32m      2\u001b[0m pcd \u001b[38;5;241m=\u001b[39m \u001b[38;5;124m'\u001b[39m\u001b[38;5;124mC:/Users/temex/Desktop/mmdet3dProj/mmdetection3d/data/kitti/testing/velodyne/000008.bin\u001b[39m\u001b[38;5;124m'\u001b[39m\n\u001b[1;32m----> 3\u001b[0m inputs \u001b[38;5;241m=\u001b[39m \u001b[38;5;28;43mdict\u001b[39;49m\u001b[43m(\u001b[49m\u001b[43mpcd\u001b[49m\u001b[43m)\u001b[49m\n",
      "\u001b[1;31mValueError\u001b[0m: dictionary update sequence element #0 has length 1; 2 is required"
     ]
    }
   ],
   "source": [
    "# Prepare the point cloud data\n",
    "pcd = 'C:/Users/temex/Desktop/mmdet3dProj/mmdetection3d/data/kitti/testing/velodyne/000008.bin'\n",
    "inputs = dict(pcd)"
   ]
  },
  {
   "cell_type": "code",
   "execution_count": 10,
   "id": "1cffc3f9",
   "metadata": {},
   "outputs": [
    {
     "name": "stdout",
     "output_type": "stream",
     "text": [
      "Loads checkpoint by local backend from path: C:/Users/temex/Desktop/mmdet3dProj/trainingOutput/epoch_40.pth\n",
      "02/10 10:01:08 - mmengine - \u001b[5m\u001b[4m\u001b[33mWARNING\u001b[0m - Failed to search registry with scope \"mmdet3d\" in the \"function\" registry tree. As a workaround, the current \"function\" registry in \"mmengine\" is used to build instance. This may cause unexpected failure when running the built modules. Please check whether \"mmdet3d\" is a correct scope, or whether the registry is initialized.\n"
     ]
    },
    {
     "name": "stderr",
     "output_type": "stream",
     "text": [
      "c:\\users\\temex\\desktop\\mmdet3dproj\\mmdetection3d\\mmdet3d\\models\\dense_heads\\anchor3d_head.py:94: UserWarning: dir_offset and dir_limit_offset will be depressed and be incorporated into box coder in the future\n",
      "  warnings.warn(\n"
     ]
    },
    {
     "name": "stdout",
     "output_type": "stream",
     "text": [
      "Jupyter environment detected. Enabling Open3D WebVisualizer.\n",
      "[Open3D INFO] WebRTC GUI backend enabled.\n",
      "[Open3D INFO] WebRTCWindowSystem: HTTP handshake server disabled.\n"
     ]
    },
    {
     "name": "stderr",
     "output_type": "stream",
     "text": [
      "C:\\Users\\temex\\AppData\\Local\\anaconda3\\envs\\openmmlab\\lib\\site-packages\\mmengine\\visualization\\visualizer.py:196: UserWarning: Failed to add <class 'mmengine.visualization.vis_backend.LocalVisBackend'>, please provide the `save_dir` argument.\n",
      "  warnings.warn(f'Failed to add {vis_backend.__class__}, '\n"
     ]
    },
    {
     "ename": "AttributeError",
     "evalue": "'LidarDet3DInferencer' object has no attribute 'infer'",
     "output_type": "error",
     "traceback": [
      "\u001b[1;31m---------------------------------------------------------------------------\u001b[0m",
      "\u001b[1;31mAttributeError\u001b[0m                            Traceback (most recent call last)",
      "Cell \u001b[1;32mIn[10], line 10\u001b[0m\n\u001b[0;32m      8\u001b[0m \u001b[38;5;66;03m# Perform inference and visualize results\u001b[39;00m\n\u001b[0;32m      9\u001b[0m inferencer \u001b[38;5;241m=\u001b[39m LidarDet3DInferencer(\u001b[38;5;241m*\u001b[39m\u001b[38;5;241m*\u001b[39minit_args)\n\u001b[1;32m---> 10\u001b[0m results \u001b[38;5;241m=\u001b[39m \u001b[43minferencer\u001b[49m\u001b[38;5;241;43m.\u001b[39;49m\u001b[43minfer\u001b[49m(pcd, show\u001b[38;5;241m=\u001b[39m\u001b[38;5;28;01mTrue\u001b[39;00m, out_dir\u001b[38;5;241m=\u001b[39m\u001b[38;5;124m'\u001b[39m\u001b[38;5;124moutputs\u001b[39m\u001b[38;5;124m'\u001b[39m, pred_score_thr\u001b[38;5;241m=\u001b[39m\u001b[38;5;241m0.3\u001b[39m)\n",
      "\u001b[1;31mAttributeError\u001b[0m: 'LidarDet3DInferencer' object has no attribute 'infer'"
     ]
    }
   ],
   "source": [
    "# Setup for inference \n",
    "init_args = {\n",
    "    'model': config_file,\n",
    "    'weights': checkpoint_file,\n",
    "    'device': device\n",
    "}\n",
    "\n",
    "# Perform inference and visualize results\n",
    "inferencer = LidarDet3DInferencer(**init_args)\n",
    "results = inferencer.infer(pcd, show=True, out_dir='outputs', pred_score_thr=0.3)"
   ]
  },
  {
   "cell_type": "code",
   "execution_count": 14,
   "id": "50fd07fc",
   "metadata": {},
   "outputs": [],
   "source": [
    "import mmcv\n",
    "import numpy as np\n",
    "from mmengine import load\n",
    "\n",
    "from mmdet3d.visualization import Det3DLocalVisualizer\n",
    "\n",
    "info_file = load('C:/Users/temex/Desktop/mmdet3dProj/mmdetection3d/demo/data/kitti/000008.pkl')\n",
    "points = np.fromfile('C:/Users/temex/Desktop/mmdet3dProj/mmdetection3d/demo/data/kitti/000008.bin', dtype=np.float32)\n",
    "points = points.reshape(-1, 4)[:, :3]\n",
    "lidar2img = np.array(info_file['data_list'][0]['images']['CAM2']['lidar2img'], dtype=np.float32)\n",
    "\n",
    "visualizer = Det3DLocalVisualizer()\n",
    "img = mmcv.imread('C:/Users/temex/Desktop/mmdet3dProj/mmdetection3d/demo/data/kitti/000008.png')\n",
    "img = mmcv.imconvert(img, 'bgr', 'rgb')\n",
    "visualizer.set_image(img)\n",
    "visualizer.draw_points_on_image(points, lidar2img)\n",
    "visualizer.show()"
   ]
  },
  {
   "cell_type": "code",
   "execution_count": 15,
   "id": "f4698b37",
   "metadata": {},
   "outputs": [
    {
     "ename": "TypeError",
     "evalue": "paint_uniform_color(): incompatible function arguments. The following argument types are supported:\n    1. (self: open3d.cpu.pybind.geometry.LineSet, color: numpy.ndarray[numpy.float64[3, 1]]) -> open3d.cpu.pybind.geometry.LineSet\n\nInvoked with: LineSet with 12 lines., 0.0",
     "output_type": "error",
     "traceback": [
      "\u001b[1;31m---------------------------------------------------------------------------\u001b[0m",
      "\u001b[1;31mTypeError\u001b[0m                                 Traceback (most recent call last)",
      "Cell \u001b[1;32mIn[15], line 16\u001b[0m\n\u001b[0;32m     12\u001b[0m bboxes_3d \u001b[38;5;241m=\u001b[39m LiDARInstance3DBoxes(\n\u001b[0;32m     13\u001b[0m     torch\u001b[38;5;241m.\u001b[39mtensor([[\u001b[38;5;241m8.7314\u001b[39m, \u001b[38;5;241m-\u001b[39m\u001b[38;5;241m1.8559\u001b[39m, \u001b[38;5;241m-\u001b[39m\u001b[38;5;241m1.5997\u001b[39m, \u001b[38;5;241m4.2000\u001b[39m, \u001b[38;5;241m3.4800\u001b[39m, \u001b[38;5;241m1.8900\u001b[39m,\n\u001b[0;32m     14\u001b[0m                    \u001b[38;5;241m-\u001b[39m\u001b[38;5;241m1.5808\u001b[39m]]))\n\u001b[0;32m     15\u001b[0m \u001b[38;5;66;03m# Draw 3D bboxes\u001b[39;00m\n\u001b[1;32m---> 16\u001b[0m \u001b[43mvisualizer\u001b[49m\u001b[38;5;241;43m.\u001b[39;49m\u001b[43mdraw_bboxes_3d\u001b[49m\u001b[43m(\u001b[49m\u001b[43mbboxes_3d\u001b[49m\u001b[43m)\u001b[49m\n\u001b[0;32m     17\u001b[0m visualizer\u001b[38;5;241m.\u001b[39mshow()\n",
      "File \u001b[1;32mc:\\users\\temex\\desktop\\mmdet3dproj\\mmdetection3d\\mmdet3d\\visualization\\local_visualizer.py:317\u001b[0m, in \u001b[0;36mDet3DLocalVisualizer.draw_bboxes_3d\u001b[1;34m(self, bboxes_3d, bbox_color, points_in_box_color, rot_axis, center_mode, mode)\u001b[0m\n\u001b[0;32m    313\u001b[0m box3d \u001b[38;5;241m=\u001b[39m geometry\u001b[38;5;241m.\u001b[39mOrientedBoundingBox(center, rot_mat, dim)\n\u001b[0;32m    315\u001b[0m line_set \u001b[38;5;241m=\u001b[39m geometry\u001b[38;5;241m.\u001b[39mLineSet\u001b[38;5;241m.\u001b[39mcreate_from_oriented_bounding_box(\n\u001b[0;32m    316\u001b[0m     box3d)\n\u001b[1;32m--> 317\u001b[0m \u001b[43mline_set\u001b[49m\u001b[38;5;241;43m.\u001b[39;49m\u001b[43mpaint_uniform_color\u001b[49m\u001b[43m(\u001b[49m\u001b[43mnp\u001b[49m\u001b[38;5;241;43m.\u001b[39;49m\u001b[43marray\u001b[49m\u001b[43m(\u001b[49m\u001b[43mbbox_color\u001b[49m\u001b[43m[\u001b[49m\u001b[43mi\u001b[49m\u001b[43m]\u001b[49m\u001b[43m)\u001b[49m\u001b[43m \u001b[49m\u001b[38;5;241;43m/\u001b[39;49m\u001b[43m \u001b[49m\u001b[38;5;241;43m255.\u001b[39;49m\u001b[43m)\u001b[49m\n\u001b[0;32m    318\u001b[0m \u001b[38;5;66;03m# draw bboxes on visualizer\u001b[39;00m\n\u001b[0;32m    319\u001b[0m \u001b[38;5;28mself\u001b[39m\u001b[38;5;241m.\u001b[39mo3d_vis\u001b[38;5;241m.\u001b[39madd_geometry(line_set)\n",
      "\u001b[1;31mTypeError\u001b[0m: paint_uniform_color(): incompatible function arguments. The following argument types are supported:\n    1. (self: open3d.cpu.pybind.geometry.LineSet, color: numpy.ndarray[numpy.float64[3, 1]]) -> open3d.cpu.pybind.geometry.LineSet\n\nInvoked with: LineSet with 12 lines., 0.0"
     ]
    }
   ],
   "source": [
    "import torch\n",
    "import numpy as np\n",
    "\n",
    "from mmdet3d.visualization import Det3DLocalVisualizer\n",
    "from mmdet3d.structures import LiDARInstance3DBoxes\n",
    "\n",
    "points = np.fromfile('C:/Users/temex/Desktop/mmdet3dProj/mmdetection3d/demo/data/kitti/000008.bin', dtype=np.float32)\n",
    "points = points.reshape(-1, 4)\n",
    "visualizer = Det3DLocalVisualizer()\n",
    "# set point cloud in visualizer\n",
    "visualizer.set_points(points)\n",
    "bboxes_3d = LiDARInstance3DBoxes(\n",
    "    torch.tensor([[8.7314, -1.8559, -1.5997, 4.2000, 3.4800, 1.8900,\n",
    "                   -1.5808]]))\n",
    "# Draw 3D bboxes\n",
    "visualizer.draw_bboxes_3d(bboxes_3d)\n",
    "visualizer.show()"
   ]
  },
  {
   "cell_type": "code",
   "execution_count": 16,
   "id": "d1d3ee79",
   "metadata": {},
   "outputs": [
    {
     "name": "stderr",
     "output_type": "stream",
     "text": [
      "C:\\Users\\temex\\AppData\\Local\\anaconda3\\envs\\openmmlab\\lib\\site-packages\\mmengine\\visualization\\visualizer.py:831: UserWarning: Warning: The polygon is out of bounds, the drawn polygon may not be in the image\n",
      "  warnings.warn(\n"
     ]
    }
   ],
   "source": [
    "import mmcv\n",
    "import numpy as np\n",
    "from mmengine import load\n",
    "\n",
    "from mmdet3d.visualization import Det3DLocalVisualizer\n",
    "from mmdet3d.structures import CameraInstance3DBoxes\n",
    "\n",
    "info_file = load('C:/Users/temex/Desktop/mmdet3dProj/mmdetection3d/demo/data/kitti/000008.pkl')\n",
    "cam2img = np.array(info_file['data_list'][0]['images']['CAM2']['cam2img'], dtype=np.float32)\n",
    "bboxes_3d = []\n",
    "for instance in info_file['data_list'][0]['instances']:\n",
    "    bboxes_3d.append(instance['bbox_3d'])\n",
    "gt_bboxes_3d = np.array(bboxes_3d, dtype=np.float32)\n",
    "gt_bboxes_3d = CameraInstance3DBoxes(gt_bboxes_3d)\n",
    "input_meta = {'cam2img': cam2img}\n",
    "\n",
    "visualizer = Det3DLocalVisualizer()\n",
    "\n",
    "img = mmcv.imread('C:/Users/temex/Desktop/mmdet3dProj/mmdetection3d/demo/data/kitti/000008.png')\n",
    "img = mmcv.imconvert(img, 'bgr', 'rgb')\n",
    "visualizer.set_image(img)\n",
    "# project 3D bboxes to image\n",
    "visualizer.draw_proj_bboxes_3d(gt_bboxes_3d, input_meta)\n",
    "visualizer.show()"
   ]
  },
  {
   "cell_type": "code",
   "execution_count": null,
   "id": "c7141bf6",
   "metadata": {},
   "outputs": [],
   "source": []
  }
 ],
 "metadata": {
  "kernelspec": {
   "display_name": "Python (openmmlab)",
   "language": "python",
   "name": "openmmlab"
  },
  "language_info": {
   "codemirror_mode": {
    "name": "ipython",
    "version": 3
   },
   "file_extension": ".py",
   "mimetype": "text/x-python",
   "name": "python",
   "nbconvert_exporter": "python",
   "pygments_lexer": "ipython3",
   "version": "3.8.18"
  }
 },
 "nbformat": 4,
 "nbformat_minor": 5
}

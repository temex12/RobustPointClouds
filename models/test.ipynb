{
 "cells": [
  {
   "cell_type": "code",
   "execution_count": 1,
   "id": "702a8f32",
   "metadata": {
    "scrolled": true
   },
   "outputs": [],
   "source": [
    "import sys\n",
    "sys.path.append('C:\\\\Users\\\\temex\\\\Desktop\\\\mmdet3dProj') \n",
    "from models.adversarial.voxel_perturber import VoxelPerturber\n",
    "import torch\n",
    "import numpy as np"
   ]
  },
  {
   "cell_type": "code",
   "execution_count": 21,
   "id": "a9658312",
   "metadata": {},
   "outputs": [],
   "source": [
    "# Create mock data: \n",
    "# KITTI point clouds usually have the format [N, 4] where N is the number of points\n",
    "# and the 4 channels typically represent [x, y, z, intensity].\n",
    "# Note: Adjust 'num_points' to match typical KITTI sizes, say 10000 for a dense cloud.\n",
    "num_points = 10000\n",
    "mock_data = torch.randn(1, num_points, 4)  # Batch size is 1, for [batch, N, channels]\n",
    "\n",
    "# Instantiate your VoxelPerturber\n",
    "voxel_perturber = VoxelPerturber()\n",
    "\n",
    "# Apply the perturber to your mock data\n",
    "perturbed_data = voxel_perturber(mock_data)\n"
   ]
  },
  {
   "cell_type": "code",
   "execution_count": 24,
   "id": "71c56762",
   "metadata": {},
   "outputs": [
    {
     "name": "stdout",
     "output_type": "stream",
     "text": [
      "Original shape: torch.Size([1, 10000, 4])\n",
      "Perturbed shape: torch.Size([1, 10000, 4])\n",
      "Original data sample: tensor([[-0.1494,  0.7043,  0.1950,  1.3358],\n",
      "        [-1.5862, -0.7082, -0.0312, -0.3766],\n",
      "        [ 0.8353, -0.1492, -1.4712, -1.5065],\n",
      "        [ 0.4119, -0.6192, -2.3897,  1.0991],\n",
      "        [-1.0990,  0.7724,  0.6767,  0.7247]])\n",
      "Perturbed data sample: tensor([[ 0.5404, -1.7099,  0.6704, -1.0932],\n",
      "        [ 2.1591,  0.1801,  0.3437,  0.5619],\n",
      "        [-0.4073, -0.5649,  1.8453,  1.7852],\n",
      "        [ 0.5790,  0.0590,  1.8478, -0.9582],\n",
      "        [ 1.6981, -1.3159, -0.3688, -0.5466]], grad_fn=<SliceBackward0>)\n"
     ]
    }
   ],
   "source": [
    "# Check shapes\n",
    "print(\"Original shape:\", mock_data.shape)\n",
    "print(\"Perturbed shape:\", perturbed_data.shape)\n",
    "\n",
    "# Optionally, inspect some points\n",
    "print(\"Original data sample:\", mock_data[0, :5, :])  # First 5 points\n",
    "print(\"Perturbed data sample:\", perturbed_data[0, :5, :])  # Corresponding perturbed points\n"
   ]
  },
  {
   "cell_type": "code",
   "execution_count": 25,
   "id": "d9e3613c",
   "metadata": {},
   "outputs": [
    {
     "name": "stdout",
     "output_type": "stream",
     "text": [
      "Perturbed data shape: torch.Size([1, 125635, 4])\n",
      "Original data shape: torch.Size([1, 125635, 4])\n"
     ]
    }
   ],
   "source": [
    "file_path = 'C:\\\\Users\\\\temex\\\\Desktop\\\\mmdet3dProj\\\\mmdetection3d\\\\data\\\\kitti\\\\testing\\\\velodyne\\\\000000.bin'\n",
    "\n",
    "# Load and format the point cloud data\n",
    "point_cloud = np.fromfile(file_path, dtype=np.float32).reshape(-1, 4)\n",
    "point_cloud_tensor = torch.tensor(point_cloud).unsqueeze(0)  # Add batch dimension\n",
    "\n",
    "# Instantiate and apply your VoxelPerturber\n",
    "voxel_perturber = VoxelPerturber()\n",
    "perturbed_data = voxel_perturber(point_cloud_tensor)\n",
    "\n",
    "# Output the perturbed data\n",
    "print(\"Perturbed data shape:\", perturbed_data.shape)\n",
    "print(\"Original data shape:\", point_cloud_tensor.shape)"
   ]
  },
  {
   "cell_type": "code",
   "execution_count": 26,
   "id": "c8013f16",
   "metadata": {},
   "outputs": [
    {
     "ename": "TypeError",
     "evalue": "__init__() missing 3 required positional arguments: 'voxel_encoder', 'middle_encoder', and 'backbone'",
     "output_type": "error",
     "traceback": [
      "\u001b[1;31m---------------------------------------------------------------------------\u001b[0m",
      "\u001b[1;31mTypeError\u001b[0m                                 Traceback (most recent call last)",
      "Cell \u001b[1;32mIn[26], line 13\u001b[0m\n\u001b[0;32m     11\u001b[0m \u001b[38;5;66;03m# Mock model setup - replace with your actual config\u001b[39;00m\n\u001b[0;32m     12\u001b[0m adversary_config \u001b[38;5;241m=\u001b[39m {\u001b[38;5;124m'\u001b[39m\u001b[38;5;124mtype\u001b[39m\u001b[38;5;124m'\u001b[39m: \u001b[38;5;124m'\u001b[39m\u001b[38;5;124mSomeAdversary\u001b[39m\u001b[38;5;124m'\u001b[39m, \u001b[38;5;124m'\u001b[39m\u001b[38;5;124mperturb_magnitude\u001b[39m\u001b[38;5;124m'\u001b[39m: \u001b[38;5;241m0.1\u001b[39m}  \u001b[38;5;66;03m# Replace with actual adversary config\u001b[39;00m\n\u001b[1;32m---> 13\u001b[0m model \u001b[38;5;241m=\u001b[39m \u001b[43mAdversarialVoxelNet\u001b[49m\u001b[43m(\u001b[49m\u001b[43madversary\u001b[49m\u001b[38;5;241;43m=\u001b[39;49m\u001b[43madversary_config\u001b[49m\u001b[43m)\u001b[49m\n\u001b[0;32m     15\u001b[0m \u001b[38;5;66;03m# Forward pass\u001b[39;00m\n\u001b[0;32m     16\u001b[0m points \u001b[38;5;241m=\u001b[39m [mock_points]\n",
      "File \u001b[1;32m~\\Desktop\\mmdet3dProj\\models\\detectors\\adversarial_voxelnet.py:17\u001b[0m, in \u001b[0;36mAdversarialVoxelNet.__init__\u001b[1;34m(self, adversary, **kwargs)\u001b[0m\n\u001b[0;32m     16\u001b[0m \u001b[38;5;28;01mdef\u001b[39;00m \u001b[38;5;21m__init__\u001b[39m(\u001b[38;5;28mself\u001b[39m, adversary, \u001b[38;5;241m*\u001b[39m\u001b[38;5;241m*\u001b[39mkwargs):\n\u001b[1;32m---> 17\u001b[0m     \u001b[38;5;28;43msuper\u001b[39;49m\u001b[43m(\u001b[49m\u001b[43mAdversarialVoxelNet\u001b[49m\u001b[43m,\u001b[49m\u001b[43m \u001b[49m\u001b[38;5;28;43mself\u001b[39;49m\u001b[43m)\u001b[49m\u001b[38;5;241;43m.\u001b[39;49m\u001b[38;5;21;43m__init__\u001b[39;49m\u001b[43m(\u001b[49m\u001b[38;5;241;43m*\u001b[39;49m\u001b[38;5;241;43m*\u001b[39;49m\u001b[43mkwargs\u001b[49m\u001b[43m)\u001b[49m\n\u001b[0;32m     18\u001b[0m     \u001b[38;5;28mself\u001b[39m\u001b[38;5;241m.\u001b[39madversary \u001b[38;5;241m=\u001b[39m builder\u001b[38;5;241m.\u001b[39mbuild_adversary(adversary)\n",
      "\u001b[1;31mTypeError\u001b[0m: __init__() missing 3 required positional arguments: 'voxel_encoder', 'middle_encoder', and 'backbone'"
     ]
    }
   ],
   "source": [
    "from models.detectors.adversarial_voxelnet import AdversarialVoxelNet\n",
    "from mmdet3d.structures import CameraInstance3DBoxes, Box3DMode\n",
    "\n",
    "# Mock data setup\n",
    "num_points = 10000  # Number of points in point cloud\n",
    "batch_size = 1      # Typically testing one example at a time\n",
    "mock_points = torch.rand((batch_size, num_points, 4))  # Simulate [x, y, z, intensity]\n",
    "mock_img_metas = [{'img_shape': (375, 1242), 'lidar2img': torch.randn(4, 4)}]\n",
    "mock_gt_bboxes_3d = CameraInstance3DBoxes(torch.rand((10, 7)), box_dim=7, origin=(0.5, 0.5, 0.5))\n",
    "\n",
    "# Mock model setup - replace with your actual config\n",
    "adversary_config = {'type': 'SomeAdversary', 'perturb_magnitude': 0.1}  # Replace with actual adversary config\n",
    "model = AdversarialVoxelNet(adversary=adversary_config)\n",
    "\n",
    "# Forward pass\n",
    "points = [mock_points]\n",
    "img_metas = [mock_img_metas]\n",
    "gt_bboxes_3d = [mock_gt_bboxes_3d.to('cpu')]\n",
    "gt_labels_3d = [torch.randint(0, 3, (10,))]  # Example ground truth labels\n",
    "outputs = model.forward_train(points, img_metas, gt_bboxes_3d, gt_labels_3d)\n",
    "\n",
    "# Assertions - Adjust according to expected model behavior and output\n",
    "assert 'loss_cls' in outputs, \"Classification loss missing in outputs\"\n",
    "assert 'loss_bbox' in outputs, \"BBox loss missing in outputs\"\n",
    "assert 'perturbation_norm' in outputs, \"Perturbation norm missing in outputs\"\n"
   ]
  },
  {
   "cell_type": "code",
   "execution_count": null,
   "id": "51ead0e5",
   "metadata": {},
   "outputs": [],
   "source": []
  }
 ],
 "metadata": {
  "kernelspec": {
   "display_name": "Python (openmmlab)",
   "language": "python",
   "name": "openmmlab"
  },
  "language_info": {
   "codemirror_mode": {
    "name": "ipython",
    "version": 3
   },
   "file_extension": ".py",
   "mimetype": "text/x-python",
   "name": "python",
   "nbconvert_exporter": "python",
   "pygments_lexer": "ipython3",
   "version": "3.8.18"
  }
 },
 "nbformat": 4,
 "nbformat_minor": 5
}
